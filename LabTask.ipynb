{
  "nbformat": 4,
  "nbformat_minor": 0,
  "metadata": {
    "colab": {
      "provenance": []
    },
    "kernelspec": {
      "name": "python3",
      "display_name": "Python 3"
    },
    "language_info": {
      "name": "python"
    }
  },
  "cells": [
    {
      "cell_type": "code",
      "execution_count": 2,
      "metadata": {
        "colab": {
          "base_uri": "https://localhost:8080/"
        },
        "id": "aACjqPXIy7WI",
        "outputId": "e0a600ac-72ee-41d7-a29d-a38bec946d78"
      },
      "outputs": [
        {
          "output_type": "stream",
          "name": "stdout",
          "text": [
            "People you may know: {'E', 'F'}\n"
          ]
        }
      ],
      "source": [
        "from collections import deque\n",
        "\n",
        "def bfs_friend_suggestion(graph, user):\n",
        "    visited = set()  # To track visited nodes\n",
        "    queue = deque([user])  # Queue for BFS\n",
        "    visited.add(user)  # Mark the target user as visited\n",
        "\n",
        "    # A set to hold suggestions (friends of friends)\n",
        "    suggestions = set()\n",
        "\n",
        "    # Level 1: Direct friends\n",
        "    level_1_friends = set(graph[user])\n",
        "\n",
        "    # Add direct friends to visited\n",
        "    visited.update(level_1_friends)\n",
        "\n",
        "    # Process friends of the target user (Level 1)\n",
        "    for friend in level_1_friends:\n",
        "        # Level 2: Friends of friends\n",
        "        for potential_friend in graph[friend]:\n",
        "            if potential_friend != user and potential_friend not in visited:\n",
        "                suggestions.add(potential_friend)\n",
        "                visited.add(potential_friend)\n",
        "\n",
        "    # Return the suggestions\n",
        "    return suggestions\n",
        "\n",
        "\n",
        "# Example Graph Representation (Adjacency List)\n",
        "social_graph = {\n",
        "    \"A\": [\"B\", \"C\", \"D\"],\n",
        "    \"B\": [\"A\", \"C\", \"E\"],\n",
        "    \"C\": [\"A\", \"B\", \"F\"],\n",
        "    \"D\": [\"A\"],\n",
        "    \"E\": [\"B\"],\n",
        "    \"F\": [\"C\"]\n",
        "}\n",
        "\n",
        "# Example\n",
        "user = \"A\"\n",
        "suggested_friends = bfs_friend_suggestion(social_graph, user)\n",
        "print(\"People you may know:\", suggested_friends)\n"
      ]
    },
    {
      "cell_type": "code",
      "source": [
        "def dfs(graph, start, end, path, all_paths):\n",
        "    # Add the current city to the path\n",
        "    path.append(start)\n",
        "\n",
        "    # If we reached the destination, add the path to the result\n",
        "    if start == end:\n",
        "        all_paths.append(list(path))\n",
        "    else:\n",
        "        # Recur for all the neighbors\n",
        "        for neighbor in graph[start]:\n",
        "            if neighbor not in path:  # Avoid revisiting cities in the current path\n",
        "                dfs(graph, neighbor, end, path, all_paths)\n",
        "\n",
        "    # Backtrack: remove the current city from path before returning\n",
        "    path.pop()\n",
        "\n",
        "def find_paths(graph, start, end):\n",
        "    all_paths = []  # To store all paths\n",
        "    dfs(graph, start, end, [], all_paths)  # Call DFS starting from 'start' city\n",
        "    return all_paths\n",
        "\n",
        "# Graph Representation of Cities and Roads\n",
        "cities_graph = {\n",
        "    'Karachi': ['Lahore', 'Islamabad'],\n",
        "    'Lahore': ['Karachi', 'Islamabad', 'Peshawar', 'Quetta'],\n",
        "    'Islamabad': ['Karachi', 'Lahore', 'Peshawar', 'Multan'],\n",
        "    'Peshawar': ['Lahore', 'Islamabad'],\n",
        "    'Quetta': ['Lahore', 'Multan'],\n",
        "    'Multan': ['Islamabad', 'Quetta']\n",
        "}\n",
        "\n",
        "# Example usage: Find all paths between Multan  and Peshawar\n",
        "start_city = 'Multan'\n",
        "end_city = 'Peshawar'\n",
        "paths = find_paths(cities_graph, start_city, end_city)\n",
        "\n",
        "# Output the paths\n",
        "print(f\"All possible paths from {start_city} to {end_city}:\")\n",
        "for path in paths:\n",
        "    print(\" to \".join(path))\n"
      ],
      "metadata": {
        "colab": {
          "base_uri": "https://localhost:8080/"
        },
        "id": "qqXvy8eJ0Le_",
        "outputId": "a72979c2-a3b5-4681-f6c0-e588231de4b7"
      },
      "execution_count": 5,
      "outputs": [
        {
          "output_type": "stream",
          "name": "stdout",
          "text": [
            "All possible paths from Multan to Peshawar:\n",
            "Multan to Islamabad to Karachi to Lahore to Peshawar\n",
            "Multan to Islamabad to Lahore to Peshawar\n",
            "Multan to Islamabad to Peshawar\n",
            "Multan to Quetta to Lahore to Karachi to Islamabad to Peshawar\n",
            "Multan to Quetta to Lahore to Islamabad to Peshawar\n",
            "Multan to Quetta to Lahore to Peshawar\n"
          ]
        }
      ]
    },
    {
      "cell_type": "code",
      "source": [
        "from collections import defaultdict\n",
        "\n",
        "class Graph:\n",
        "    def __init__(self):\n",
        "        self.graph = defaultdict(list)\n",
        "\n",
        "    def add_edge(self, u, v):\n",
        "        self.graph[u].append(v)\n",
        "\n",
        "    def dfs_util(self, v, visited):\n",
        "        visited.add(v)\n",
        "        print(v, end=' ')\n",
        "\n",
        "        for neighbor in self.graph[v]:\n",
        "            if neighbor not in visited:\n",
        "                self.dfs_util(neighbor, visited)\n",
        "\n",
        "    def dfs(self, start):\n",
        "        visited = set()\n",
        "        self.dfs_util(start, visited)\n",
        "\n",
        "# Create the graph\n",
        "g = Graph()\n",
        "g.add_edge(3, 1)\n",
        "g.add_edge(3, 5)\n",
        "g.add_edge(1, 0)\n",
        "g.add_edge(1, 2)\n",
        "g.add_edge(5, 4)\n",
        "g.add_edge(5, 6)\n",
        "\n",
        "print(\"DFS traversal starting from node 3:\")\n",
        "g.dfs(3)\n",
        "\n",
        "print(\"\\n\\nDFS traversal starting from node 5:\")\n",
        "g.dfs(5)\n",
        "\n",
        "\n"
      ],
      "metadata": {
        "colab": {
          "base_uri": "https://localhost:8080/"
        },
        "id": "9Cek9ku0h5kS",
        "outputId": "2ffb5c1a-dd65-4527-841c-f440af75fd86"
      },
      "execution_count": 15,
      "outputs": [
        {
          "output_type": "stream",
          "name": "stdout",
          "text": [
            "DFS traversal starting from node 3:\n",
            "3 1 0 2 5 4 6 \n",
            "\n",
            "DFS traversal starting from node 5:\n",
            "5 4 6 "
          ]
        }
      ]
    },
    {
      "cell_type": "code",
      "source": [
        "import heapq\n",
        "#in this code heapq code is used to implement a priority queue, which store the smallest element at the node.\n",
        "\n",
        "class Node:\n",
        "    def __init__(self, name, g, h):\n",
        "        self.name = name  # The name of the nodes\n",
        "        self.g = g  # Cost of the nodes interconnected\n",
        "        self.h = h  # heuristic value of the node\n",
        "        self.f = g + h  # total estimated cost\n",
        "        self.parent = None  # The parent node in the path\n",
        "\n",
        "    def __lt__(self, other):\n",
        "        return self.f < other.f  # This allows heapq to order nodes by their f values\n",
        "\n",
        "def a_star(graph, start, goal, heuristics):\n",
        "    open_list = []  # Priority queue for nodes to be explored\n",
        "    closed_list = set()  # Set of nodes that have been fully explored\n",
        "\n",
        "    # Add start node to open list\n",
        "    start_node = Node(start, 0, heuristics[start])\n",
        "    heapq.heappush(open_list, start_node)\n",
        "\n",
        "    while open_list:\n",
        "        # Get the node with the lowest f value\n",
        "        current_node = heapq.heappop(open_list)\n",
        "\n",
        "        # If the goal is reached, reconstruct the path\n",
        "        if current_node.name == goal:\n",
        "            path = []\n",
        "            while current_node:\n",
        "                path.append(current_node.name)\n",
        "                current_node = current_node.parent\n",
        "            return path[::-1]  # this is used to get the reversed path\n",
        "\n",
        "        closed_list.add(current_node.name)\n",
        "\n",
        "        # Explore neighbors\n",
        "        for neighbor, weight in graph[current_node.name].items(): #weight= distances\n",
        "            if neighbor in closed_list:\n",
        "                continue\n",
        "\n",
        "            g_cost = current_node.g + weight\n",
        "            h_cost = heuristics[neighbor]\n",
        "            neighbor_node = Node(neighbor, g_cost, h_cost) # creating new node named as neighbor node\n",
        "            neighbor_node.parent = current_node\n",
        "\n",
        "            # If the neighbor is not in open list, add it\n",
        "            heapq.heappush(open_list, neighbor_node)\n",
        "\n",
        "    return None  # Return None if no path is found\n",
        "\n",
        "# This is the graph that how the values are connected with each other at what cost\n",
        "graph = {\n",
        "    'A': {'B': 4, 'C': 1},\n",
        "    'B': {'A': 4, 'D': 5},\n",
        "    'C': {'A': 1, 'D': 3, 'E': 2},\n",
        "    'D': {'B': 5, 'C': 3, 'E': 1},\n",
        "    'E': {'C': 2, 'D': 1}\n",
        "}\n",
        "\n",
        "# Heuristic values of all the nodes\n",
        "heuristics = {\n",
        "    'A': 7,\n",
        "    'B': 6,\n",
        "    'C': 2,\n",
        "    'D': 1,\n",
        "    'E': 0\n",
        "}\n",
        "\n",
        "# Example\n",
        "start = 'A'\n",
        "goal = 'E'\n",
        "path = a_star(graph, start, goal, heuristics)\n",
        "\n",
        "# Output\n",
        "if path:\n",
        "    print(f\"Shortest path from {start} to {goal}: {' to '.join(path)}\")\n",
        "else:\n",
        "    print(f\"No path found\")\n",
        "\n"
      ],
      "metadata": {
        "colab": {
          "base_uri": "https://localhost:8080/"
        },
        "id": "NrT_fJl_3ACQ",
        "outputId": "0038923f-bfa1-4dd1-e95b-996d5ac04ccc"
      },
      "execution_count": 16,
      "outputs": [
        {
          "output_type": "stream",
          "name": "stdout",
          "text": [
            "Shortest path from A to E: A to C to E\n"
          ]
        }
      ]
    }
  ]
}